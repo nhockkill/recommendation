{
 "cells": [
  {
   "cell_type": "code",
   "execution_count": 1,
   "id": "ab191e77",
   "metadata": {},
   "outputs": [],
   "source": [
    "import pandas as pd\n",
    "import numpy as np"
   ]
  },
  {
   "cell_type": "code",
   "execution_count": 2,
   "id": "2c622b5a",
   "metadata": {},
   "outputs": [],
   "source": [
    "movies = pd.read_csv('Highest Holywood Grossing Movies.csv')"
   ]
  },
  {
   "cell_type": "code",
   "execution_count": 3,
   "id": "a7fe6445",
   "metadata": {},
   "outputs": [
    {
     "data": {
      "text/html": [
       "<div>\n",
       "<style scoped>\n",
       "    .dataframe tbody tr th:only-of-type {\n",
       "        vertical-align: middle;\n",
       "    }\n",
       "\n",
       "    .dataframe tbody tr th {\n",
       "        vertical-align: top;\n",
       "    }\n",
       "\n",
       "    .dataframe thead th {\n",
       "        text-align: right;\n",
       "    }\n",
       "</style>\n",
       "<table border=\"1\" class=\"dataframe\">\n",
       "  <thead>\n",
       "    <tr style=\"text-align: right;\">\n",
       "      <th></th>\n",
       "      <th>ID</th>\n",
       "      <th>Year</th>\n",
       "      <th>Domestic Sales (in $)</th>\n",
       "      <th>International Sales (in $)</th>\n",
       "      <th>World Wide Sales (in $)</th>\n",
       "    </tr>\n",
       "  </thead>\n",
       "  <tbody>\n",
       "    <tr>\n",
       "      <th>count</th>\n",
       "      <td>1000.000000</td>\n",
       "      <td>1000.000000</td>\n",
       "      <td>1.000000e+03</td>\n",
       "      <td>1.000000e+03</td>\n",
       "      <td>1.000000e+03</td>\n",
       "    </tr>\n",
       "    <tr>\n",
       "      <th>mean</th>\n",
       "      <td>501.500000</td>\n",
       "      <td>2008.181000</td>\n",
       "      <td>1.646405e+08</td>\n",
       "      <td>2.640890e+08</td>\n",
       "      <td>4.228430e+08</td>\n",
       "    </tr>\n",
       "    <tr>\n",
       "      <th>std</th>\n",
       "      <td>288.819436</td>\n",
       "      <td>10.585854</td>\n",
       "      <td>1.197541e+08</td>\n",
       "      <td>2.133847e+08</td>\n",
       "      <td>3.054844e+08</td>\n",
       "    </tr>\n",
       "    <tr>\n",
       "      <th>min</th>\n",
       "      <td>2.000000</td>\n",
       "      <td>1937.000000</td>\n",
       "      <td>6.752000e+03</td>\n",
       "      <td>2.450000e+07</td>\n",
       "      <td>1.799689e+08</td>\n",
       "    </tr>\n",
       "    <tr>\n",
       "      <th>25%</th>\n",
       "      <td>251.750000</td>\n",
       "      <td>2002.000000</td>\n",
       "      <td>9.572506e+07</td>\n",
       "      <td>1.321190e+08</td>\n",
       "      <td>2.272899e+08</td>\n",
       "    </tr>\n",
       "    <tr>\n",
       "      <th>50%</th>\n",
       "      <td>501.500000</td>\n",
       "      <td>2010.000000</td>\n",
       "      <td>1.349169e+08</td>\n",
       "      <td>1.941077e+08</td>\n",
       "      <td>3.197148e+08</td>\n",
       "    </tr>\n",
       "    <tr>\n",
       "      <th>75%</th>\n",
       "      <td>751.250000</td>\n",
       "      <td>2016.000000</td>\n",
       "      <td>1.983993e+08</td>\n",
       "      <td>3.188993e+08</td>\n",
       "      <td>4.852363e+08</td>\n",
       "    </tr>\n",
       "    <tr>\n",
       "      <th>max</th>\n",
       "      <td>1001.000000</td>\n",
       "      <td>2023.000000</td>\n",
       "      <td>9.366622e+08</td>\n",
       "      <td>2.138484e+09</td>\n",
       "      <td>2.923706e+09</td>\n",
       "    </tr>\n",
       "  </tbody>\n",
       "</table>\n",
       "</div>"
      ],
      "text/plain": [
       "                ID         Year  Domestic Sales (in $)  \\\n",
       "count  1000.000000  1000.000000           1.000000e+03   \n",
       "mean    501.500000  2008.181000           1.646405e+08   \n",
       "std     288.819436    10.585854           1.197541e+08   \n",
       "min       2.000000  1937.000000           6.752000e+03   \n",
       "25%     251.750000  2002.000000           9.572506e+07   \n",
       "50%     501.500000  2010.000000           1.349169e+08   \n",
       "75%     751.250000  2016.000000           1.983993e+08   \n",
       "max    1001.000000  2023.000000           9.366622e+08   \n",
       "\n",
       "       International Sales (in $)  World Wide Sales (in $)  \n",
       "count                1.000000e+03             1.000000e+03  \n",
       "mean                 2.640890e+08             4.228430e+08  \n",
       "std                  2.133847e+08             3.054844e+08  \n",
       "min                  2.450000e+07             1.799689e+08  \n",
       "25%                  1.321190e+08             2.272899e+08  \n",
       "50%                  1.941077e+08             3.197148e+08  \n",
       "75%                  3.188993e+08             4.852363e+08  \n",
       "max                  2.138484e+09             2.923706e+09  "
      ]
     },
     "execution_count": 3,
     "metadata": {},
     "output_type": "execute_result"
    }
   ],
   "source": [
    "movies.describe()"
   ]
  },
  {
   "cell_type": "code",
   "execution_count": 4,
   "id": "1a6d688f",
   "metadata": {},
   "outputs": [
    {
     "data": {
      "text/html": [
       "<div>\n",
       "<style scoped>\n",
       "    .dataframe tbody tr th:only-of-type {\n",
       "        vertical-align: middle;\n",
       "    }\n",
       "\n",
       "    .dataframe tbody tr th {\n",
       "        vertical-align: top;\n",
       "    }\n",
       "\n",
       "    .dataframe thead th {\n",
       "        text-align: right;\n",
       "    }\n",
       "</style>\n",
       "<table border=\"1\" class=\"dataframe\">\n",
       "  <thead>\n",
       "    <tr style=\"text-align: right;\">\n",
       "      <th></th>\n",
       "      <th>ID</th>\n",
       "      <th>Title</th>\n",
       "      <th>Movie Info</th>\n",
       "      <th>Year</th>\n",
       "      <th>Distributor</th>\n",
       "      <th>Budget (in $)</th>\n",
       "      <th>Domestic Opening (in $)</th>\n",
       "      <th>Domestic Sales (in $)</th>\n",
       "      <th>International Sales (in $)</th>\n",
       "      <th>World Wide Sales (in $)</th>\n",
       "      <th>Release Date</th>\n",
       "      <th>Genre</th>\n",
       "      <th>Running Time</th>\n",
       "      <th>License</th>\n",
       "    </tr>\n",
       "  </thead>\n",
       "  <tbody>\n",
       "    <tr>\n",
       "      <th>0</th>\n",
       "      <td>2</td>\n",
       "      <td>Avatar</td>\n",
       "      <td>A paraplegic Marine dispatched to the moon Pan...</td>\n",
       "      <td>2009</td>\n",
       "      <td>Twentieth Century Fox</td>\n",
       "      <td>237000000</td>\n",
       "      <td>77025481</td>\n",
       "      <td>785221649</td>\n",
       "      <td>2138484377</td>\n",
       "      <td>2923706026</td>\n",
       "      <td>16-Dec-09</td>\n",
       "      <td>['Action', 'Adventure', 'Fantasy', 'Sci-Fi']</td>\n",
       "      <td>2 hr 42 min</td>\n",
       "      <td>PG-13</td>\n",
       "    </tr>\n",
       "    <tr>\n",
       "      <th>1</th>\n",
       "      <td>3</td>\n",
       "      <td>Avengers: Endgame</td>\n",
       "      <td>After the devastating events of Avengers: Infi...</td>\n",
       "      <td>2019</td>\n",
       "      <td>Walt Disney Studios Motion Pictures</td>\n",
       "      <td>356000000</td>\n",
       "      <td>357115007</td>\n",
       "      <td>858373000</td>\n",
       "      <td>1941066100</td>\n",
       "      <td>2799439100</td>\n",
       "      <td>24-Apr-19</td>\n",
       "      <td>['Action', 'Adventure', 'Drama', 'Sci-Fi']</td>\n",
       "      <td>3 hr 1 min</td>\n",
       "      <td>PG-13</td>\n",
       "    </tr>\n",
       "    <tr>\n",
       "      <th>2</th>\n",
       "      <td>4</td>\n",
       "      <td>Avatar: The Way of Water</td>\n",
       "      <td>Jake Sully lives with his newfound family form...</td>\n",
       "      <td>2022</td>\n",
       "      <td>20th Century Studios</td>\n",
       "      <td>December 14 2022 (EMEA APAC)</td>\n",
       "      <td>134100226</td>\n",
       "      <td>684075767</td>\n",
       "      <td>1636174514</td>\n",
       "      <td>2320250281</td>\n",
       "      <td>24-Apr-19</td>\n",
       "      <td>['Action', 'Adventure', 'Drama', 'Sci-Fi']</td>\n",
       "      <td>3 hr 1 min</td>\n",
       "      <td>PG-13</td>\n",
       "    </tr>\n",
       "    <tr>\n",
       "      <th>3</th>\n",
       "      <td>5</td>\n",
       "      <td>Titanic</td>\n",
       "      <td>A seventeen-year-old aristocrat falls in love ...</td>\n",
       "      <td>1997</td>\n",
       "      <td>Paramount Pictures</td>\n",
       "      <td>200000000</td>\n",
       "      <td>28638131</td>\n",
       "      <td>674292608</td>\n",
       "      <td>1590450697</td>\n",
       "      <td>2264743305</td>\n",
       "      <td>19-Dec-97</td>\n",
       "      <td>['Drama', 'Romance']</td>\n",
       "      <td>3 hr 14 min</td>\n",
       "      <td>PG-13</td>\n",
       "    </tr>\n",
       "    <tr>\n",
       "      <th>4</th>\n",
       "      <td>6</td>\n",
       "      <td>Star Wars: Episode VII - The Force Awakens</td>\n",
       "      <td>As a new threat to the galaxy rises, Rey, a de...</td>\n",
       "      <td>2015</td>\n",
       "      <td>Walt Disney Studios Motion Pictures</td>\n",
       "      <td>245000000</td>\n",
       "      <td>247966675</td>\n",
       "      <td>936662225</td>\n",
       "      <td>1134647993</td>\n",
       "      <td>2071310218</td>\n",
       "      <td>16-Dec-15</td>\n",
       "      <td>['Action', 'Adventure', 'Sci-Fi']</td>\n",
       "      <td>2 hr 18 min</td>\n",
       "      <td>PG-13</td>\n",
       "    </tr>\n",
       "  </tbody>\n",
       "</table>\n",
       "</div>"
      ],
      "text/plain": [
       "   ID                                       Title  \\\n",
       "0   2                                      Avatar   \n",
       "1   3                           Avengers: Endgame   \n",
       "2   4                    Avatar: The Way of Water   \n",
       "3   5                                     Titanic   \n",
       "4   6  Star Wars: Episode VII - The Force Awakens   \n",
       "\n",
       "                                          Movie Info  Year  \\\n",
       "0  A paraplegic Marine dispatched to the moon Pan...  2009   \n",
       "1  After the devastating events of Avengers: Infi...  2019   \n",
       "2  Jake Sully lives with his newfound family form...  2022   \n",
       "3  A seventeen-year-old aristocrat falls in love ...  1997   \n",
       "4  As a new threat to the galaxy rises, Rey, a de...  2015   \n",
       "\n",
       "                           Distributor                 Budget (in $)  \\\n",
       "0                Twentieth Century Fox                     237000000   \n",
       "1  Walt Disney Studios Motion Pictures                     356000000   \n",
       "2                 20th Century Studios  December 14 2022 (EMEA APAC)   \n",
       "3                   Paramount Pictures                     200000000   \n",
       "4  Walt Disney Studios Motion Pictures                     245000000   \n",
       "\n",
       "  Domestic Opening (in $)  Domestic Sales (in $)  International Sales (in $)  \\\n",
       "0                77025481              785221649                  2138484377   \n",
       "1               357115007              858373000                  1941066100   \n",
       "2               134100226              684075767                  1636174514   \n",
       "3                28638131              674292608                  1590450697   \n",
       "4               247966675              936662225                  1134647993   \n",
       "\n",
       "   World Wide Sales (in $) Release Date  \\\n",
       "0               2923706026    16-Dec-09   \n",
       "1               2799439100    24-Apr-19   \n",
       "2               2320250281    24-Apr-19   \n",
       "3               2264743305    19-Dec-97   \n",
       "4               2071310218    16-Dec-15   \n",
       "\n",
       "                                          Genre Running Time License  \n",
       "0  ['Action', 'Adventure', 'Fantasy', 'Sci-Fi']  2 hr 42 min   PG-13  \n",
       "1    ['Action', 'Adventure', 'Drama', 'Sci-Fi']   3 hr 1 min   PG-13  \n",
       "2    ['Action', 'Adventure', 'Drama', 'Sci-Fi']   3 hr 1 min   PG-13  \n",
       "3                          ['Drama', 'Romance']  3 hr 14 min   PG-13  \n",
       "4             ['Action', 'Adventure', 'Sci-Fi']  2 hr 18 min   PG-13  "
      ]
     },
     "execution_count": 4,
     "metadata": {},
     "output_type": "execute_result"
    }
   ],
   "source": [
    "movies.head()"
   ]
  },
  {
   "cell_type": "code",
   "execution_count": 5,
   "id": "58411c69",
   "metadata": {},
   "outputs": [
    {
     "data": {
      "text/plain": [
       "ID                             0\n",
       "Title                          0\n",
       "Movie Info                     0\n",
       "Year                           0\n",
       "Distributor                    1\n",
       "Budget (in $)                  0\n",
       "Domestic Opening (in $)        0\n",
       "Domestic Sales (in $)          0\n",
       "International Sales (in $)     0\n",
       "World Wide Sales (in $)        0\n",
       "Release Date                   0\n",
       "Genre                          0\n",
       "Running Time                   0\n",
       "License                       57\n",
       "dtype: int64"
      ]
     },
     "execution_count": 5,
     "metadata": {},
     "output_type": "execute_result"
    }
   ],
   "source": [
    "movies.isnull().sum()"
   ]
  },
  {
   "cell_type": "code",
   "execution_count": 6,
   "id": "3ec2e4b1",
   "metadata": {},
   "outputs": [],
   "source": [
    "movies.dropna(inplace=True)"
   ]
  },
  {
   "cell_type": "code",
   "execution_count": 7,
   "id": "cc96a018",
   "metadata": {},
   "outputs": [
    {
     "data": {
      "text/plain": [
       "0"
      ]
     },
     "execution_count": 7,
     "metadata": {},
     "output_type": "execute_result"
    }
   ],
   "source": [
    "movies.duplicated().sum()"
   ]
  },
  {
   "cell_type": "code",
   "execution_count": 8,
   "id": "54fecd43",
   "metadata": {},
   "outputs": [
    {
     "data": {
      "text/plain": [
       "Index(['ID', 'Title', 'Movie Info', 'Year', 'Distributor', 'Budget (in $)',\n",
       "       'Domestic Opening (in $)', 'Domestic Sales (in $)',\n",
       "       'International Sales (in $)', 'World Wide Sales (in $)', 'Release Date',\n",
       "       'Genre', 'Running Time', 'License'],\n",
       "      dtype='object')"
      ]
     },
     "execution_count": 8,
     "metadata": {},
     "output_type": "execute_result"
    }
   ],
   "source": [
    "movies.columns\n",
    "\n"
   ]
  },
  {
   "cell_type": "code",
   "execution_count": 9,
   "id": "d767b6f7",
   "metadata": {},
   "outputs": [],
   "source": [
    "movies['Tag'] = movies['Movie Info'] + movies['Genre']"
   ]
  },
  {
   "cell_type": "code",
   "execution_count": 10,
   "id": "d9f4d366",
   "metadata": {},
   "outputs": [],
   "source": [
    "new_data = movies.drop(columns=['Movie Info', 'Genre', 'Budget (in $)', 'Domestic Sales (in $)', 'Running Time','Year', 'Distributor', 'Domestic Opening (in $)','International Sales (in $)','Release Date','World Wide Sales (in $)', 'License'])"
   ]
  },
  {
   "cell_type": "code",
   "execution_count": 11,
   "id": "b6cff65c",
   "metadata": {},
   "outputs": [
    {
     "data": {
      "text/html": [
       "<div>\n",
       "<style scoped>\n",
       "    .dataframe tbody tr th:only-of-type {\n",
       "        vertical-align: middle;\n",
       "    }\n",
       "\n",
       "    .dataframe tbody tr th {\n",
       "        vertical-align: top;\n",
       "    }\n",
       "\n",
       "    .dataframe thead th {\n",
       "        text-align: right;\n",
       "    }\n",
       "</style>\n",
       "<table border=\"1\" class=\"dataframe\">\n",
       "  <thead>\n",
       "    <tr style=\"text-align: right;\">\n",
       "      <th></th>\n",
       "      <th>ID</th>\n",
       "      <th>Title</th>\n",
       "      <th>Tag</th>\n",
       "    </tr>\n",
       "  </thead>\n",
       "  <tbody>\n",
       "    <tr>\n",
       "      <th>0</th>\n",
       "      <td>2</td>\n",
       "      <td>Avatar</td>\n",
       "      <td>A paraplegic Marine dispatched to the moon Pan...</td>\n",
       "    </tr>\n",
       "    <tr>\n",
       "      <th>1</th>\n",
       "      <td>3</td>\n",
       "      <td>Avengers: Endgame</td>\n",
       "      <td>After the devastating events of Avengers: Infi...</td>\n",
       "    </tr>\n",
       "    <tr>\n",
       "      <th>2</th>\n",
       "      <td>4</td>\n",
       "      <td>Avatar: The Way of Water</td>\n",
       "      <td>Jake Sully lives with his newfound family form...</td>\n",
       "    </tr>\n",
       "    <tr>\n",
       "      <th>3</th>\n",
       "      <td>5</td>\n",
       "      <td>Titanic</td>\n",
       "      <td>A seventeen-year-old aristocrat falls in love ...</td>\n",
       "    </tr>\n",
       "    <tr>\n",
       "      <th>4</th>\n",
       "      <td>6</td>\n",
       "      <td>Star Wars: Episode VII - The Force Awakens</td>\n",
       "      <td>As a new threat to the galaxy rises, Rey, a de...</td>\n",
       "    </tr>\n",
       "    <tr>\n",
       "      <th>...</th>\n",
       "      <td>...</td>\n",
       "      <td>...</td>\n",
       "      <td>...</td>\n",
       "    </tr>\n",
       "    <tr>\n",
       "      <th>995</th>\n",
       "      <td>997</td>\n",
       "      <td>Sweet Home Alabama</td>\n",
       "      <td>A young woman who has reinvented herself as a ...</td>\n",
       "    </tr>\n",
       "    <tr>\n",
       "      <th>996</th>\n",
       "      <td>998</td>\n",
       "      <td>Daddy's Home 2</td>\n",
       "      <td>Having finally gotten used to each other's exi...</td>\n",
       "    </tr>\n",
       "    <tr>\n",
       "      <th>997</th>\n",
       "      <td>999</td>\n",
       "      <td>Hacksaw Ridge</td>\n",
       "      <td>World War II American Army Medic Desmond T. Do...</td>\n",
       "    </tr>\n",
       "    <tr>\n",
       "      <th>998</th>\n",
       "      <td>1000</td>\n",
       "      <td>Deja Vu</td>\n",
       "      <td>After a ferry is bombed in New Orleans, an A.T...</td>\n",
       "    </tr>\n",
       "    <tr>\n",
       "      <th>999</th>\n",
       "      <td>1001</td>\n",
       "      <td>M3GAN</td>\n",
       "      <td>A robotics engineer at a toy company builds a ...</td>\n",
       "    </tr>\n",
       "  </tbody>\n",
       "</table>\n",
       "<p>942 rows × 3 columns</p>\n",
       "</div>"
      ],
      "text/plain": [
       "       ID                                       Title  \\\n",
       "0       2                                      Avatar   \n",
       "1       3                           Avengers: Endgame   \n",
       "2       4                    Avatar: The Way of Water   \n",
       "3       5                                     Titanic   \n",
       "4       6  Star Wars: Episode VII - The Force Awakens   \n",
       "..    ...                                         ...   \n",
       "995   997                          Sweet Home Alabama   \n",
       "996   998                              Daddy's Home 2   \n",
       "997   999                               Hacksaw Ridge   \n",
       "998  1000                                     Deja Vu   \n",
       "999  1001                                       M3GAN   \n",
       "\n",
       "                                                   Tag  \n",
       "0    A paraplegic Marine dispatched to the moon Pan...  \n",
       "1    After the devastating events of Avengers: Infi...  \n",
       "2    Jake Sully lives with his newfound family form...  \n",
       "3    A seventeen-year-old aristocrat falls in love ...  \n",
       "4    As a new threat to the galaxy rises, Rey, a de...  \n",
       "..                                                 ...  \n",
       "995  A young woman who has reinvented herself as a ...  \n",
       "996  Having finally gotten used to each other's exi...  \n",
       "997  World War II American Army Medic Desmond T. Do...  \n",
       "998  After a ferry is bombed in New Orleans, an A.T...  \n",
       "999  A robotics engineer at a toy company builds a ...  \n",
       "\n",
       "[942 rows x 3 columns]"
      ]
     },
     "execution_count": 11,
     "metadata": {},
     "output_type": "execute_result"
    }
   ],
   "source": [
    "new_data\n"
   ]
  },
  {
   "cell_type": "code",
   "execution_count": 12,
   "id": "58af85c7",
   "metadata": {},
   "outputs": [],
   "source": [
    "from sklearn.feature_extraction.text import CountVectorizer"
   ]
  },
  {
   "cell_type": "code",
   "execution_count": 13,
   "id": "4c2cc2e2",
   "metadata": {},
   "outputs": [],
   "source": [
    "cv = CountVectorizer(max_features = 1000, stop_words='english')"
   ]
  },
  {
   "cell_type": "code",
   "execution_count": 14,
   "id": "0391d4c7",
   "metadata": {},
   "outputs": [
    {
     "data": {
      "text/html": [
       "<style>#sk-container-id-1 {color: black;}#sk-container-id-1 pre{padding: 0;}#sk-container-id-1 div.sk-toggleable {background-color: white;}#sk-container-id-1 label.sk-toggleable__label {cursor: pointer;display: block;width: 100%;margin-bottom: 0;padding: 0.3em;box-sizing: border-box;text-align: center;}#sk-container-id-1 label.sk-toggleable__label-arrow:before {content: \"▸\";float: left;margin-right: 0.25em;color: #696969;}#sk-container-id-1 label.sk-toggleable__label-arrow:hover:before {color: black;}#sk-container-id-1 div.sk-estimator:hover label.sk-toggleable__label-arrow:before {color: black;}#sk-container-id-1 div.sk-toggleable__content {max-height: 0;max-width: 0;overflow: hidden;text-align: left;background-color: #f0f8ff;}#sk-container-id-1 div.sk-toggleable__content pre {margin: 0.2em;color: black;border-radius: 0.25em;background-color: #f0f8ff;}#sk-container-id-1 input.sk-toggleable__control:checked~div.sk-toggleable__content {max-height: 200px;max-width: 100%;overflow: auto;}#sk-container-id-1 input.sk-toggleable__control:checked~label.sk-toggleable__label-arrow:before {content: \"▾\";}#sk-container-id-1 div.sk-estimator input.sk-toggleable__control:checked~label.sk-toggleable__label {background-color: #d4ebff;}#sk-container-id-1 div.sk-label input.sk-toggleable__control:checked~label.sk-toggleable__label {background-color: #d4ebff;}#sk-container-id-1 input.sk-hidden--visually {border: 0;clip: rect(1px 1px 1px 1px);clip: rect(1px, 1px, 1px, 1px);height: 1px;margin: -1px;overflow: hidden;padding: 0;position: absolute;width: 1px;}#sk-container-id-1 div.sk-estimator {font-family: monospace;background-color: #f0f8ff;border: 1px dotted black;border-radius: 0.25em;box-sizing: border-box;margin-bottom: 0.5em;}#sk-container-id-1 div.sk-estimator:hover {background-color: #d4ebff;}#sk-container-id-1 div.sk-parallel-item::after {content: \"\";width: 100%;border-bottom: 1px solid gray;flex-grow: 1;}#sk-container-id-1 div.sk-label:hover label.sk-toggleable__label {background-color: #d4ebff;}#sk-container-id-1 div.sk-serial::before {content: \"\";position: absolute;border-left: 1px solid gray;box-sizing: border-box;top: 0;bottom: 0;left: 50%;z-index: 0;}#sk-container-id-1 div.sk-serial {display: flex;flex-direction: column;align-items: center;background-color: white;padding-right: 0.2em;padding-left: 0.2em;position: relative;}#sk-container-id-1 div.sk-item {position: relative;z-index: 1;}#sk-container-id-1 div.sk-parallel {display: flex;align-items: stretch;justify-content: center;background-color: white;position: relative;}#sk-container-id-1 div.sk-item::before, #sk-container-id-1 div.sk-parallel-item::before {content: \"\";position: absolute;border-left: 1px solid gray;box-sizing: border-box;top: 0;bottom: 0;left: 50%;z-index: -1;}#sk-container-id-1 div.sk-parallel-item {display: flex;flex-direction: column;z-index: 1;position: relative;background-color: white;}#sk-container-id-1 div.sk-parallel-item:first-child::after {align-self: flex-end;width: 50%;}#sk-container-id-1 div.sk-parallel-item:last-child::after {align-self: flex-start;width: 50%;}#sk-container-id-1 div.sk-parallel-item:only-child::after {width: 0;}#sk-container-id-1 div.sk-dashed-wrapped {border: 1px dashed gray;margin: 0 0.4em 0.5em 0.4em;box-sizing: border-box;padding-bottom: 0.4em;background-color: white;}#sk-container-id-1 div.sk-label label {font-family: monospace;font-weight: bold;display: inline-block;line-height: 1.2em;}#sk-container-id-1 div.sk-label-container {text-align: center;}#sk-container-id-1 div.sk-container {/* jupyter's `normalize.less` sets `[hidden] { display: none; }` but bootstrap.min.css set `[hidden] { display: none !important; }` so we also need the `!important` here to be able to override the default hidden behavior on the sphinx rendered scikit-learn.org. See: https://github.com/scikit-learn/scikit-learn/issues/21755 */display: inline-block !important;position: relative;}#sk-container-id-1 div.sk-text-repr-fallback {display: none;}</style><div id=\"sk-container-id-1\" class=\"sk-top-container\"><div class=\"sk-text-repr-fallback\"><pre>CountVectorizer(max_features=1000, stop_words=&#x27;english&#x27;)</pre><b>In a Jupyter environment, please rerun this cell to show the HTML representation or trust the notebook. <br />On GitHub, the HTML representation is unable to render, please try loading this page with nbviewer.org.</b></div><div class=\"sk-container\" hidden><div class=\"sk-item\"><div class=\"sk-estimator sk-toggleable\"><input class=\"sk-toggleable__control sk-hidden--visually\" id=\"sk-estimator-id-1\" type=\"checkbox\" checked><label for=\"sk-estimator-id-1\" class=\"sk-toggleable__label sk-toggleable__label-arrow\">CountVectorizer</label><div class=\"sk-toggleable__content\"><pre>CountVectorizer(max_features=1000, stop_words=&#x27;english&#x27;)</pre></div></div></div></div></div>"
      ],
      "text/plain": [
       "CountVectorizer(max_features=1000, stop_words='english')"
      ]
     },
     "execution_count": 14,
     "metadata": {},
     "output_type": "execute_result"
    }
   ],
   "source": [
    "cv"
   ]
  },
  {
   "cell_type": "code",
   "execution_count": 15,
   "id": "14fadfa6",
   "metadata": {},
   "outputs": [],
   "source": [
    "vector = cv.fit_transform(new_data['Tag'].values.astype('U')).toarray()"
   ]
  },
  {
   "cell_type": "code",
   "execution_count": 16,
   "id": "7045a8ca",
   "metadata": {},
   "outputs": [
    {
     "data": {
      "text/plain": [
       "(942, 1000)"
      ]
     },
     "execution_count": 16,
     "metadata": {},
     "output_type": "execute_result"
    }
   ],
   "source": [
    "vector.shape"
   ]
  },
  {
   "cell_type": "code",
   "execution_count": 17,
   "id": "f77e4f4b",
   "metadata": {},
   "outputs": [],
   "source": [
    "from sklearn.metrics.pairwise import cosine_similarity"
   ]
  },
  {
   "cell_type": "code",
   "execution_count": 18,
   "id": "9f6899dd",
   "metadata": {},
   "outputs": [],
   "source": [
    "similarity = cosine_similarity(vector)"
   ]
  },
  {
   "cell_type": "code",
   "execution_count": 19,
   "id": "8ba809a9",
   "metadata": {},
   "outputs": [
    {
     "data": {
      "text/plain": [
       "array([[1.        , 0.23132597, 0.40360368, ..., 0.05783149, 0.2773501 ,\n",
       "        0.21483446],\n",
       "       [0.23132597, 1.        , 0.25286087, ..., 0.13043478, 0.15638581,\n",
       "        0.16151457],\n",
       "       [0.40360368, 0.25286087, 1.        , ..., 0.10114435, 0.18190172,\n",
       "        0.18786729],\n",
       "       ...,\n",
       "       [0.05783149, 0.13043478, 0.10114435, ..., 1.        , 0.        ,\n",
       "        0.        ],\n",
       "       [0.2773501 , 0.15638581, 0.18190172, ..., 0.        , 1.        ,\n",
       "        0.32274861],\n",
       "       [0.21483446, 0.16151457, 0.18786729, ..., 0.        , 0.32274861,\n",
       "        1.        ]])"
      ]
     },
     "execution_count": 19,
     "metadata": {},
     "output_type": "execute_result"
    }
   ],
   "source": [
    "similarity"
   ]
  },
  {
   "cell_type": "code",
   "execution_count": 20,
   "id": "32486936",
   "metadata": {},
   "outputs": [
    {
     "data": {
      "text/plain": [
       "1"
      ]
     },
     "execution_count": 20,
     "metadata": {},
     "output_type": "execute_result"
    }
   ],
   "source": [
    "new_data[new_data['Title']==\"Avengers: Endgame\"].index[0]"
   ]
  },
  {
   "cell_type": "code",
   "execution_count": 21,
   "id": "989bdfe4",
   "metadata": {},
   "outputs": [
    {
     "name": "stdout",
     "output_type": "stream",
     "text": [
      "<class 'pandas.core.frame.DataFrame'>\n",
      "Index: 942 entries, 0 to 999\n",
      "Data columns (total 3 columns):\n",
      " #   Column  Non-Null Count  Dtype \n",
      "---  ------  --------------  ----- \n",
      " 0   ID      942 non-null    int64 \n",
      " 1   Title   942 non-null    object\n",
      " 2   Tag     942 non-null    object\n",
      "dtypes: int64(1), object(2)\n",
      "memory usage: 29.4+ KB\n"
     ]
    }
   ],
   "source": [
    "new_data.info()"
   ]
  },
  {
   "cell_type": "code",
   "execution_count": 22,
   "id": "a77bb5e1",
   "metadata": {},
   "outputs": [
    {
     "name": "stdout",
     "output_type": "stream",
     "text": [
      "Titanic\n",
      "Twilight\n",
      "Bridget Jones's Diary\n",
      "Something's Gotta Give\n",
      "Moulin Rouge!\n",
      "Up\n"
     ]
    }
   ],
   "source": [
    "distance = sorted(list(enumerate(similarity[3])), reverse= True, key=lambda vector:vector[1])\n",
    "for i in distance [0:6]:\n",
    "    print(new_data.iloc[i[0]].Title)\n",
    "    "
   ]
  },
  {
   "cell_type": "code",
   "execution_count": 28,
   "id": "e6891707",
   "metadata": {},
   "outputs": [],
   "source": [
    "def recommend(movies):\n",
    "    index = new_data[new_data['Title']==movies].index[0]\n",
    "    distance = sorted(list(enumerate(similarity[index])), reverse= True, key=lambda vector:vector[1])\n",
    "    for i in distance [0:5]:\n",
    "        print(new_data.iloc[i[0]].Title)"
   ]
  },
  {
   "cell_type": "code",
   "execution_count": 29,
   "id": "84a13149",
   "metadata": {},
   "outputs": [],
   "source": [
    "import pickle"
   ]
  },
  {
   "cell_type": "code",
   "execution_count": 30,
   "id": "9c5d5402",
   "metadata": {},
   "outputs": [],
   "source": [
    "pickle.dump(new_data, open('movies_list.pkl', 'wb'))"
   ]
  },
  {
   "cell_type": "code",
   "execution_count": 34,
   "id": "3079ef0b",
   "metadata": {},
   "outputs": [],
   "source": [
    "pickle.dump(similarity, open('similarity.pkl', 'wb'))"
   ]
  },
  {
   "cell_type": "code",
   "execution_count": 35,
   "id": "fba374b3",
   "metadata": {},
   "outputs": [
    {
     "data": {
      "text/html": [
       "<div>\n",
       "<style scoped>\n",
       "    .dataframe tbody tr th:only-of-type {\n",
       "        vertical-align: middle;\n",
       "    }\n",
       "\n",
       "    .dataframe tbody tr th {\n",
       "        vertical-align: top;\n",
       "    }\n",
       "\n",
       "    .dataframe thead th {\n",
       "        text-align: right;\n",
       "    }\n",
       "</style>\n",
       "<table border=\"1\" class=\"dataframe\">\n",
       "  <thead>\n",
       "    <tr style=\"text-align: right;\">\n",
       "      <th></th>\n",
       "      <th>ID</th>\n",
       "      <th>Title</th>\n",
       "      <th>Tag</th>\n",
       "    </tr>\n",
       "  </thead>\n",
       "  <tbody>\n",
       "    <tr>\n",
       "      <th>0</th>\n",
       "      <td>2</td>\n",
       "      <td>Avatar</td>\n",
       "      <td>A paraplegic Marine dispatched to the moon Pan...</td>\n",
       "    </tr>\n",
       "    <tr>\n",
       "      <th>1</th>\n",
       "      <td>3</td>\n",
       "      <td>Avengers: Endgame</td>\n",
       "      <td>After the devastating events of Avengers: Infi...</td>\n",
       "    </tr>\n",
       "    <tr>\n",
       "      <th>2</th>\n",
       "      <td>4</td>\n",
       "      <td>Avatar: The Way of Water</td>\n",
       "      <td>Jake Sully lives with his newfound family form...</td>\n",
       "    </tr>\n",
       "    <tr>\n",
       "      <th>3</th>\n",
       "      <td>5</td>\n",
       "      <td>Titanic</td>\n",
       "      <td>A seventeen-year-old aristocrat falls in love ...</td>\n",
       "    </tr>\n",
       "    <tr>\n",
       "      <th>4</th>\n",
       "      <td>6</td>\n",
       "      <td>Star Wars: Episode VII - The Force Awakens</td>\n",
       "      <td>As a new threat to the galaxy rises, Rey, a de...</td>\n",
       "    </tr>\n",
       "    <tr>\n",
       "      <th>...</th>\n",
       "      <td>...</td>\n",
       "      <td>...</td>\n",
       "      <td>...</td>\n",
       "    </tr>\n",
       "    <tr>\n",
       "      <th>995</th>\n",
       "      <td>997</td>\n",
       "      <td>Sweet Home Alabama</td>\n",
       "      <td>A young woman who has reinvented herself as a ...</td>\n",
       "    </tr>\n",
       "    <tr>\n",
       "      <th>996</th>\n",
       "      <td>998</td>\n",
       "      <td>Daddy's Home 2</td>\n",
       "      <td>Having finally gotten used to each other's exi...</td>\n",
       "    </tr>\n",
       "    <tr>\n",
       "      <th>997</th>\n",
       "      <td>999</td>\n",
       "      <td>Hacksaw Ridge</td>\n",
       "      <td>World War II American Army Medic Desmond T. Do...</td>\n",
       "    </tr>\n",
       "    <tr>\n",
       "      <th>998</th>\n",
       "      <td>1000</td>\n",
       "      <td>Deja Vu</td>\n",
       "      <td>After a ferry is bombed in New Orleans, an A.T...</td>\n",
       "    </tr>\n",
       "    <tr>\n",
       "      <th>999</th>\n",
       "      <td>1001</td>\n",
       "      <td>M3GAN</td>\n",
       "      <td>A robotics engineer at a toy company builds a ...</td>\n",
       "    </tr>\n",
       "  </tbody>\n",
       "</table>\n",
       "<p>942 rows × 3 columns</p>\n",
       "</div>"
      ],
      "text/plain": [
       "       ID                                       Title  \\\n",
       "0       2                                      Avatar   \n",
       "1       3                           Avengers: Endgame   \n",
       "2       4                    Avatar: The Way of Water   \n",
       "3       5                                     Titanic   \n",
       "4       6  Star Wars: Episode VII - The Force Awakens   \n",
       "..    ...                                         ...   \n",
       "995   997                          Sweet Home Alabama   \n",
       "996   998                              Daddy's Home 2   \n",
       "997   999                               Hacksaw Ridge   \n",
       "998  1000                                     Deja Vu   \n",
       "999  1001                                       M3GAN   \n",
       "\n",
       "                                                   Tag  \n",
       "0    A paraplegic Marine dispatched to the moon Pan...  \n",
       "1    After the devastating events of Avengers: Infi...  \n",
       "2    Jake Sully lives with his newfound family form...  \n",
       "3    A seventeen-year-old aristocrat falls in love ...  \n",
       "4    As a new threat to the galaxy rises, Rey, a de...  \n",
       "..                                                 ...  \n",
       "995  A young woman who has reinvented herself as a ...  \n",
       "996  Having finally gotten used to each other's exi...  \n",
       "997  World War II American Army Medic Desmond T. Do...  \n",
       "998  After a ferry is bombed in New Orleans, an A.T...  \n",
       "999  A robotics engineer at a toy company builds a ...  \n",
       "\n",
       "[942 rows x 3 columns]"
      ]
     },
     "execution_count": 35,
     "metadata": {},
     "output_type": "execute_result"
    }
   ],
   "source": [
    "pickle.load(open('movies_list.pkl', 'rb')) "
   ]
  },
  {
   "cell_type": "code",
   "execution_count": 36,
   "id": "2d92b44c",
   "metadata": {},
   "outputs": [
    {
     "data": {
      "text/plain": [
       "array([[1.        , 0.23132597, 0.40360368, ..., 0.05783149, 0.2773501 ,\n",
       "        0.21483446],\n",
       "       [0.23132597, 1.        , 0.25286087, ..., 0.13043478, 0.15638581,\n",
       "        0.16151457],\n",
       "       [0.40360368, 0.25286087, 1.        , ..., 0.10114435, 0.18190172,\n",
       "        0.18786729],\n",
       "       ...,\n",
       "       [0.05783149, 0.13043478, 0.10114435, ..., 1.        , 0.        ,\n",
       "        0.        ],\n",
       "       [0.2773501 , 0.15638581, 0.18190172, ..., 0.        , 1.        ,\n",
       "        0.32274861],\n",
       "       [0.21483446, 0.16151457, 0.18786729, ..., 0.        , 0.32274861,\n",
       "        1.        ]])"
      ]
     },
     "execution_count": 36,
     "metadata": {},
     "output_type": "execute_result"
    }
   ],
   "source": [
    "pickle.load(open('similarity.pkl', 'rb')) "
   ]
  },
  {
   "cell_type": "code",
   "execution_count": null,
   "id": "2530d9fa",
   "metadata": {},
   "outputs": [],
   "source": []
  }
 ],
 "metadata": {
  "kernelspec": {
   "display_name": "Python 3 (ipykernel)",
   "language": "python",
   "name": "python3"
  },
  "language_info": {
   "codemirror_mode": {
    "name": "ipython",
    "version": 3
   },
   "file_extension": ".py",
   "mimetype": "text/x-python",
   "name": "python",
   "nbconvert_exporter": "python",
   "pygments_lexer": "ipython3",
   "version": "3.11.4"
  }
 },
 "nbformat": 4,
 "nbformat_minor": 5
}
